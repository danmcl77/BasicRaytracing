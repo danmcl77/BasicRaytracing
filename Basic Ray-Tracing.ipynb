{
 "cells": [
  {
   "cell_type": "markdown",
   "metadata": {},
   "source": [
    "## Basic Ray-Tracing through Multiple Surfaces\n",
    "#### Dan McLachlan\n",
    "\n",
    "\n",
    "Given the raytracing equations\n",
    "$$n_{j+1}u_{j+1} = n_j u_j + h_j K_j$$\n",
    "$$K_J = \\frac{n_{j+1}-n_j}{R_j}$$\n",
    "$$h_{j+1} = h_j + d_{j+1} u_{j+1}$$\n",
    "\n",
    "values for focal length and back focal distance can be obtained from the iteration of these equations to produce values for $u_5$ and $h_4$ as\n",
    "\n",
    "$$f=-\\frac{h_i}{u_f}$$\n",
    "$$BFD=-\\frac{h_f}{u_f}$$\n",
    "\n",
    "**Note: all values given in the form of lists with 0 at the 0 index so that the index value is equal to the j values in the above equations**"
   ]
  },
  {
   "cell_type": "code",
   "execution_count": 37,
   "metadata": {},
   "outputs": [
    {
     "name": "stdout",
     "output_type": "stream",
     "text": [
      "Input number of surfaces: 3\n",
      "Radius of curvature of surface 1 in millimetres\n",
      "247\n",
      "Radius of curvature of surface 2 in millimetres\n",
      "-177\n",
      "Radius of curvature of surface 3 in millimetres\n",
      "-517\n",
      "R = [0, 0, 247, -177, -517]\n",
      "\n",
      "Distance in mm between surfaces 1 and 2\n",
      "6\n",
      "Distance in mm between surfaces 2 and 3\n",
      "3\n",
      "d = [0, 0, 0, 6, 3]\n"
     ]
    }
   ],
   "source": [
    "#Acquire radii of curvature and distances between surfaces\n",
    "nsurf = eval(input('Input number of surfaces: '))\n",
    "R = [0, 0]\n",
    "d = [0, 0, 0]\n",
    "\n",
    "for i in range(nsurf):\n",
    "    print('Radius of curvature of surface',i+1,'in millimetres')\n",
    "    R.append(eval(input('')))\n",
    "\n",
    "print('R =',R)\n",
    "print('')\n",
    "\n",
    "for i in range(nsurf-1):\n",
    "    print('Distance in mm between surfaces',i+1,'and',i+2)\n",
    "    d.append(eval(input('')))\n",
    "print('d =',d)"
   ]
  },
  {
   "cell_type": "code",
   "execution_count": 38,
   "metadata": {},
   "outputs": [
    {
     "name": "stdout",
     "output_type": "stream",
     "text": [
      "How many rays are passing through this optical system? 3\n",
      "Refractive index of ray 1 between surfaces 1 and 2\n",
      "1.5228\n",
      "Refractive index of ray 1 between surfaces 2 and 3\n",
      "1.6888\n",
      "n (ray 1 ): [0, 1, 1, 1.5228, 1.6888, 1, 1]\n",
      "Refractive index of ray 2 between surfaces 1 and 2\n",
      "1.5187\n",
      "Refractive index of ray 2 between surfaces 2 and 3\n",
      "1.6776\n",
      "n (ray 2 ): [0, 1, 1, 1.5187, 1.6776, 1, 1]\n",
      "Refractive index of ray 3 between surfaces 1 and 2\n",
      "1.5147\n",
      "Refractive index of ray 3 between surfaces 2 and 3\n",
      "1.6676\n",
      "n (ray 3 ): [0, 1, 1, 1.5147, 1.6676, 1, 1]\n"
     ]
    }
   ],
   "source": [
    "#acquire number of rays and refractive indices between surfaces\n",
    "\n",
    "nrays = eval(input('How many rays are passing through this optical system? '))\n",
    "nlist = []\n",
    "Klist = []\n",
    "ulist = []\n",
    "hlist = []\n",
    "\n",
    "for i in range(nrays):\n",
    "    nlist.append([0,1,1])\n",
    "    Klist.append([0,0])\n",
    "    ulist.append([0,0,0])\n",
    "    hlist.append([0,0])\n",
    "\n",
    "for i in range(len(nlist)):\n",
    "    for j in range(nsurf-1):\n",
    "        print('Refractive index of ray',i+1,'between surfaces',j+1,'and',j+2)\n",
    "        nlist[i].append(eval(input('')))\n",
    "    nlist[i].append(1)\n",
    "    nlist[i].append(1)\n",
    "    print('n (ray',i+1,'):',nlist[i])"
   ]
  },
  {
   "cell_type": "code",
   "execution_count": 39,
   "metadata": {},
   "outputs": [],
   "source": [
    "# Raytracing eqns\n",
    "\n",
    "def Kfunc(nj,ni,Ri):\n",
    "    return (nj-ni)/Ri\n",
    "\n",
    "def ufunc(ni,nj,ui,hi,Ki):\n",
    "    return (ni*ui - hi*Ki)/nj\n",
    "\n",
    "def hfunc(hi,dj,uj):\n",
    "    return hi + dj*uj\n"
   ]
  },
  {
   "cell_type": "code",
   "execution_count": 40,
   "metadata": {},
   "outputs": [
    {
     "name": "stdout",
     "output_type": "stream",
     "text": [
      "K (ray 1 ) = [0, 0, 0.0021165991902834004, -0.0009378531073446336, 0.0013323017408123793]\n",
      "K (ray 2 ) = [0, 0, 0.0021, -0.0008977401129943505, 0.0013106382978723403]\n",
      "K (ray 3 ) = [0, 0, 0.002083805668016194, -0.0008638418079096047, 0.0012912959381044488]\n"
     ]
    }
   ],
   "source": [
    "#K values\n",
    "for i in range(nrays):\n",
    "    for j in range(2,len(R)):\n",
    "        Klist[i].append(Kfunc(nlist[i][j+1],nlist[i][j],R[j]))\n",
    "    print('K (ray',i+1,') =',Klist[i])"
   ]
  },
  {
   "cell_type": "code",
   "execution_count": 41,
   "metadata": {},
   "outputs": [
    {
     "name": "stdout",
     "output_type": "stream",
     "text": [
      "Height in mm of source for ray 1\n",
      "10\n",
      "Height in mm of source for ray 2\n",
      "10\n",
      "Height in mm of source for ray 3\n",
      "10\n",
      "u (ray 1 ): [0, 0, 0, -0.013899390532462572, -0.0070260980275900446, -0.025049500016002244]\n",
      "h (ray 1 ): [0, 0, 10, 9.916603656805224, 9.895525362722454]\n",
      "\n",
      "u (ray 2 ): [0, 0, 0, -0.013827615723974451, -0.007210944505168928, -0.02506637264408126]\n",
      "h (ray 2 ): [0, 0, 10, 9.917034305656154, 9.895401472140646]\n",
      "\n",
      "u (ray 3 ): [0, 0, 0, -0.01375721705959064, -0.007358445044738105, -0.02504880871600662]\n",
      "h (ray 3 ): [0, 0, 10, 9.917456697642455, 9.89538136250824]\n",
      "\n"
     ]
    }
   ],
   "source": [
    "for i in range(nrays):\n",
    "    print('Height in mm of source for ray',i+1)\n",
    "    hlist[i].append(eval(input('')))\n",
    "\n",
    "for i in range(nrays):\n",
    "    for j in range(2,len(R)-1):\n",
    "        ulist[i].append(ufunc(nlist[i][j],nlist[i][j+1],ulist[i][j],hlist[i][j],Klist[i][j]))\n",
    "        hlist[i].append(hfunc(hlist[i][j],d[j+1],ulist[i][j+1]))\n",
    "    ulist[i].append(ufunc(nlist[i][len(R)-1],nlist[i][len(R)],ulist[i][len(R)-1],hlist[i][len(R)-1],Klist[i][len(R)-1]))\n",
    "    print('u (ray',i+1,'):',ulist[i])\n",
    "    print('h (ray',i+1,'):',hlist[i])\n",
    "    print('')"
   ]
  },
  {
   "cell_type": "code",
   "execution_count": 42,
   "metadata": {},
   "outputs": [
    {
     "name": "stdout",
     "output_type": "stream",
     "text": [
      "Focal length (ray 1 ): 1423.2650840811007\n",
      "Back focal distance (ray 1 ): 1411.3955737401836\n",
      "Focal length (ray 2 ): 1386.780884644422\n",
      "Back focal distance (ray 2 ): 1375.2753607446923\n",
      "Focal length (ray 3 ): 1358.9827659514594\n",
      "Back focal distance (ray 3 ): 1347.765273416597\n"
     ]
    }
   ],
   "source": [
    "flist = []\n",
    "bfdlist = []\n",
    "for i in range(nrays):\n",
    "    flist.append(-hlist[i][2]/ulist[i][len(R)-1])\n",
    "    bfdlist.append(-hlist[i][len(R)-2]/ulist[i][len(R)-1])\n",
    "    print('Focal length (ray',i+1,'):',flist[i])\n",
    "    print('Back focal distance (ray',i+1,'):',bfdlist[i])"
   ]
  },
  {
   "cell_type": "code",
   "execution_count": null,
   "metadata": {},
   "outputs": [],
   "source": []
  }
 ],
 "metadata": {
  "kernelspec": {
   "display_name": "Python 3",
   "language": "python",
   "name": "python3"
  },
  "language_info": {
   "codemirror_mode": {
    "name": "ipython",
    "version": 3
   },
   "file_extension": ".py",
   "mimetype": "text/x-python",
   "name": "python",
   "nbconvert_exporter": "python",
   "pygments_lexer": "ipython3",
   "version": "3.8.3"
  }
 },
 "nbformat": 4,
 "nbformat_minor": 4
}
